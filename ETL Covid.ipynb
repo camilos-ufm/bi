{
 "cells": [
  {
   "cell_type": "code",
   "execution_count": 2,
   "id": "86fedf4b",
   "metadata": {},
   "outputs": [
    {
     "name": "stdout",
     "output_type": "stream",
     "text": [
      "Collecting pandas\n",
      "  Downloading pandas-1.2.4-cp38-cp38-manylinux1_x86_64.whl (9.7 MB)\n",
      "\u001b[K     |████████████████████████████████| 9.7 MB 1.6 MB/s eta 0:00:01     |█████████████▉                  | 4.2 MB 1.7 MB/s eta 0:00:04     |████████████████████▍           | 6.2 MB 1.1 MB/s eta 0:00:04     |██████████████████████▍         | 6.8 MB 1.1 MB/s eta 0:00:03     |██████████████████████████▌     | 8.0 MB 1.1 MB/s eta 0:00:02     |██████████████████████████▊     | 8.1 MB 1.1 MB/s eta 0:00:02   | 8.5 MB 1.1 MB/s eta 0:00:02     |████████████████████████████▊   | 8.7 MB 1.6 MB/s eta 0:00:01     |███████████████████████████████▎| 9.5 MB 1.6 MB/s eta 0:00:017 MB 1.6 MB/s eta 0:00:01\n",
      "\u001b[?25hRequirement already satisfied: python-dateutil>=2.7.3 in /opt/conda/lib/python3.8/site-packages (from pandas) (2.8.1)\n",
      "Collecting numpy>=1.16.5\n",
      "  Downloading numpy-1.20.2-cp38-cp38-manylinux2010_x86_64.whl (15.4 MB)\n",
      "\u001b[K     |████████████████████████████████| 15.4 MB 3.6 kB/s eta 0:00:01    |█▍                              | 655 kB 2.2 MB/s eta 0:00:07     |█████████▋                      | 4.6 MB 925 kB/s eta 0:00:12     |████████████▍                   | 5.9 MB 925 kB/s eta 0:00:11\n",
      "\u001b[?25hRequirement already satisfied: pytz>=2017.3 in /opt/conda/lib/python3.8/site-packages (from pandas) (2021.1)\n",
      "Requirement already satisfied: six>=1.5 in /opt/conda/lib/python3.8/site-packages (from python-dateutil>=2.7.3->pandas) (1.15.0)\n",
      "Installing collected packages: numpy, pandas\n",
      "Successfully installed numpy-1.20.2 pandas-1.2.4\n",
      "Note: you may need to restart the kernel to use updated packages.\n"
     ]
    }
   ],
   "source": [
    "pip install pandas"
   ]
  },
  {
   "cell_type": "code",
   "execution_count": 3,
   "id": "64be2fb3",
   "metadata": {},
   "outputs": [
    {
     "name": "stdout",
     "output_type": "stream",
     "text": [
      "Requirement already satisfied: requests in /opt/conda/lib/python3.8/site-packages (2.25.1)\n",
      "Requirement already satisfied: chardet<5,>=3.0.2 in /opt/conda/lib/python3.8/site-packages (from requests) (4.0.0)\n",
      "Requirement already satisfied: idna<3,>=2.5 in /opt/conda/lib/python3.8/site-packages (from requests) (2.10)\n",
      "Requirement already satisfied: certifi>=2017.4.17 in /opt/conda/lib/python3.8/site-packages (from requests) (2020.12.5)\n",
      "Requirement already satisfied: urllib3<1.27,>=1.21.1 in /opt/conda/lib/python3.8/site-packages (from requests) (1.26.4)\n",
      "Note: you may need to restart the kernel to use updated packages.\n"
     ]
    }
   ],
   "source": [
    "pip install requests"
   ]
  },
  {
   "cell_type": "code",
   "execution_count": 4,
   "id": "52f1f356",
   "metadata": {},
   "outputs": [
    {
     "name": "stdout",
     "output_type": "stream",
     "text": [
      "Collecting PyMySQL\n",
      "  Downloading PyMySQL-1.0.2-py3-none-any.whl (43 kB)\n",
      "\u001b[K     |████████████████████████████████| 43 kB 312 kB/s eta 0:00:01\n",
      "\u001b[?25hInstalling collected packages: PyMySQL\n",
      "Successfully installed PyMySQL-1.0.2\n",
      "Note: you may need to restart the kernel to use updated packages.\n"
     ]
    }
   ],
   "source": [
    "pip install PyMySQL"
   ]
  },
  {
   "cell_type": "code",
   "execution_count": 1,
   "id": "27cc0d07",
   "metadata": {},
   "outputs": [],
   "source": [
    "import pandas as pd\n",
    "import io\n",
    "import requests\n",
    "url=\"https://raw.githubusercontent.com/cs109/2014_data/master/countries.csv\"\n",
    "s=requests.get(url).content\n",
    "c=pd.read_csv(io.StringIO(s.decode('utf-8')))"
   ]
  },
  {
   "cell_type": "code",
   "execution_count": 2,
   "id": "0a111fcd",
   "metadata": {},
   "outputs": [
    {
     "name": "stdout",
     "output_type": "stream",
     "text": [
      "       Country         Region\n",
      "0      Algeria         AFRICA\n",
      "1       Angola         AFRICA\n",
      "2        Benin         AFRICA\n",
      "3     Botswana         AFRICA\n",
      "4      Burkina         AFRICA\n",
      "..         ...            ...\n",
      "189   Paraguay  SOUTH AMERICA\n",
      "190       Peru  SOUTH AMERICA\n",
      "191   Suriname  SOUTH AMERICA\n",
      "192    Uruguay  SOUTH AMERICA\n",
      "193  Venezuela  SOUTH AMERICA\n",
      "\n",
      "[194 rows x 2 columns]\n"
     ]
    }
   ],
   "source": [
    "print(c)"
   ]
  },
  {
   "cell_type": "code",
   "execution_count": 3,
   "id": "b98ccb97",
   "metadata": {},
   "outputs": [
    {
     "name": "stdout",
     "output_type": "stream",
     "text": [
      "None\n"
     ]
    }
   ],
   "source": [
    "import pymysql.cursors\n",
    "\n",
    "# Connect to the database\n",
    "connection = pymysql.connect(host='db',\n",
    "                             user='admin',\n",
    "                             port=3306,\n",
    "                             password='admin123',\n",
    "                             database='covid',\n",
    "                             cursorclass=pymysql.cursors.DictCursor)\n",
    "\n",
    "with connection:\n",
    "#     with connection.cursor() as cursor:\n",
    "#         # Create a new record\n",
    "#         sql = \"INSERT INTO `users` (`email`, `password`) VALUES (%s, %s)\"\n",
    "#         cursor.execute(sql, ('webmaster@python.org', 'very-secret'))\n",
    "\n",
    "#     # connection is not autocommit by default. So you must commit to save\n",
    "#     # your changes.\n",
    "#     connection.commit()\n",
    "\n",
    "    with connection.cursor() as cursor:\n",
    "        # Read a single record\n",
    "        sql = \"SELECT * FROM `covid_cases_by_region`\"\n",
    "        cursor.execute(sql)\n",
    "        result = cursor.fetchone()\n",
    "        print(result)"
   ]
  },
  {
   "cell_type": "code",
   "execution_count": 4,
   "id": "5498a32b",
   "metadata": {},
   "outputs": [],
   "source": [
    "import pandas as pd\n",
    "import io\n",
    "import requests"
   ]
  },
  {
   "cell_type": "code",
   "execution_count": 5,
   "id": "d50d7851",
   "metadata": {},
   "outputs": [],
   "source": [
    "url=\"https://raw.githubusercontent.com/CSSEGISandData/COVID-19/master/csse_covid_19_data/csse_covid_19_time_series/time_series_covid19_confirmed_US.csv\"\n",
    "content_url=requests.get(url).content\n",
    "confirmed_dataframe=pd.read_csv(io.StringIO(content_url.decode('utf-8')))"
   ]
  },
  {
   "cell_type": "code",
   "execution_count": 6,
   "id": "66b3b3cf",
   "metadata": {},
   "outputs": [
    {
     "name": "stdout",
     "output_type": "stream",
     "text": [
      "           UID iso2 iso3  code3     FIPS      Admin2 Province_State  \\\n",
      "0     84001001   US  USA    840   1001.0     Autauga        Alabama   \n",
      "1     84001003   US  USA    840   1003.0     Baldwin        Alabama   \n",
      "2     84001005   US  USA    840   1005.0     Barbour        Alabama   \n",
      "3     84001007   US  USA    840   1007.0        Bibb        Alabama   \n",
      "4     84001009   US  USA    840   1009.0      Blount        Alabama   \n",
      "...        ...  ...  ...    ...      ...         ...            ...   \n",
      "3337  84056039   US  USA    840  56039.0       Teton        Wyoming   \n",
      "3338  84056041   US  USA    840  56041.0       Uinta        Wyoming   \n",
      "3339  84090056   US  USA    840  90056.0  Unassigned        Wyoming   \n",
      "3340  84056043   US  USA    840  56043.0    Washakie        Wyoming   \n",
      "3341  84056045   US  USA    840  56045.0      Weston        Wyoming   \n",
      "\n",
      "     Country_Region        Lat       Long_  ... 4/28/21  4/29/21  4/30/21  \\\n",
      "0                US  32.539527  -86.644082  ...    6890     6897     6904   \n",
      "1                US  30.727750  -87.722071  ...   20897    20921    20941   \n",
      "2                US  31.868263  -85.387129  ...    2298     2299     2300   \n",
      "3                US  32.996421  -87.125115  ...    2591     2593     2594   \n",
      "4                US  33.982109  -86.567906  ...    6595     6607     6613   \n",
      "...             ...        ...         ...  ...     ...      ...      ...   \n",
      "3337             US  43.935225 -110.589080  ...    3729     3730     3732   \n",
      "3338             US  41.287818 -110.547578  ...    2180     2181     2183   \n",
      "3339             US   0.000000    0.000000  ...       0        0        0   \n",
      "3340             US  43.904516 -107.680187  ...     903      903      903   \n",
      "3341             US  43.839612 -104.567488  ...     649      650      650   \n",
      "\n",
      "      5/1/21  5/2/21  5/3/21  5/4/21  5/5/21  5/6/21  5/7/21  \n",
      "0       6907    6909    6910    6910    6914    6914    6918  \n",
      "1      20966   20983   20993   20993   21035   21093   21107  \n",
      "2       2302    2302    2302    2302    2307    2307    2307  \n",
      "3       2596    2596    2597    2597    2604    2604    2604  \n",
      "4       6616    6619    6621    6621    6635    6645    6651  \n",
      "...      ...     ...     ...     ...     ...     ...     ...  \n",
      "3337    3732    3732    3739    3741    3744    3753    3751  \n",
      "3338    2183    2183    2195    2204    2209    2211    2217  \n",
      "3339       0       0       0       0       0       0       0  \n",
      "3340     903     903     906     906     911     911     911  \n",
      "3341     650     650     651     651     651     651     651  \n",
      "\n",
      "[3342 rows x 483 columns]\n"
     ]
    }
   ],
   "source": [
    "print(confirmed_dataframe)"
   ]
  },
  {
   "cell_type": "code",
   "execution_count": 7,
   "id": "ed379d24",
   "metadata": {},
   "outputs": [],
   "source": [
    "url=\"https://raw.githubusercontent.com/CSSEGISandData/COVID-19/master/csse_covid_19_data/csse_covid_19_time_series/time_series_covid19_deaths_US.csv\"\n",
    "content_url=requests.get(url).content\n",
    "deaths_dataframe=pd.read_csv(io.StringIO(content_url.decode('utf-8')))"
   ]
  },
  {
   "cell_type": "code",
   "execution_count": 8,
   "id": "08bd6ed4",
   "metadata": {},
   "outputs": [],
   "source": [
    "column_array = confirmed_dataframe.columns"
   ]
  },
  {
   "cell_type": "code",
   "execution_count": 11,
   "id": "b4e55393",
   "metadata": {},
   "outputs": [
    {
     "name": "stdout",
     "output_type": "stream",
     "text": [
      "0       0\n",
      "1       0\n",
      "2       0\n",
      "3       0\n",
      "4       0\n",
      "       ..\n",
      "3337    0\n",
      "3338    0\n",
      "3339    0\n",
      "3340    0\n",
      "3341    0\n",
      "Name: 1/22/20, Length: 3342, dtype: int64\n"
     ]
    }
   ],
   "source": [
    "print(confirmed_dataframe['1/22/20'])"
   ]
  },
  {
   "cell_type": "code",
   "execution_count": 9,
   "id": "bdb90058",
   "metadata": {},
   "outputs": [
    {
     "name": "stdout",
     "output_type": "stream",
     "text": [
      "483\n"
     ]
    }
   ],
   "source": [
    "print(len(column_array))"
   ]
  },
  {
   "cell_type": "code",
   "execution_count": 10,
   "id": "d76c2f45",
   "metadata": {},
   "outputs": [
    {
     "name": "stdout",
     "output_type": "stream",
     "text": [
      "UID\n"
     ]
    }
   ],
   "source": [
    "print(column_array[0])"
   ]
  },
  {
   "cell_type": "code",
   "execution_count": null,
   "id": "c297b524",
   "metadata": {},
   "outputs": [],
   "source": [
    "# 0,3,4,5,6 params\n",
    "# 11-n dates"
   ]
  },
  {
   "cell_type": "code",
   "execution_count": 23,
   "id": "a8012880",
   "metadata": {},
   "outputs": [
    {
     "name": "stdout",
     "output_type": "stream",
     "text": [
      "0       84001001\n",
      "1       84001003\n",
      "2       84001005\n",
      "3       84001007\n",
      "4       84001009\n",
      "          ...   \n",
      "3337    84056039\n",
      "3338    84056041\n",
      "3339    84090056\n",
      "3340    84056043\n",
      "3341    84056045\n",
      "Name: UID, Length: 3342, dtype: int64\n"
     ]
    }
   ],
   "source": [
    "print(confirmed_dataframe[column_array[0]])"
   ]
  },
  {
   "cell_type": "code",
   "execution_count": 33,
   "id": "bfd3eb5f",
   "metadata": {},
   "outputs": [],
   "source": [
    "df_column_info = confirmed_dataframe[['UID', 'code3', 'FIPS', 'Admin2', 'Province_State']]"
   ]
  },
  {
   "cell_type": "code",
   "execution_count": 40,
   "id": "720ab767",
   "metadata": {},
   "outputs": [],
   "source": [
    "df_column_date = confirmed_dataframe.iloc[: , 11:479]"
   ]
  },
  {
   "cell_type": "code",
   "execution_count": 43,
   "id": "db7c759c",
   "metadata": {},
   "outputs": [
    {
     "name": "stdout",
     "output_type": "stream",
     "text": [
      "           UID  code3     FIPS      Admin2 Province_State\n",
      "0     84001001    840   1001.0     Autauga        Alabama\n",
      "1     84001003    840   1003.0     Baldwin        Alabama\n",
      "2     84001005    840   1005.0     Barbour        Alabama\n",
      "3     84001007    840   1007.0        Bibb        Alabama\n",
      "4     84001009    840   1009.0      Blount        Alabama\n",
      "...        ...    ...      ...         ...            ...\n",
      "3337  84056039    840  56039.0       Teton        Wyoming\n",
      "3338  84056041    840  56041.0       Uinta        Wyoming\n",
      "3339  84090056    840  90056.0  Unassigned        Wyoming\n",
      "3340  84056043    840  56043.0    Washakie        Wyoming\n",
      "3341  84056045    840  56045.0      Weston        Wyoming\n",
      "\n",
      "[3342 rows x 5 columns]\n"
     ]
    }
   ],
   "source": [
    "print(df_column_info)"
   ]
  },
  {
   "cell_type": "code",
   "execution_count": 41,
   "id": "1274e6f5",
   "metadata": {},
   "outputs": [
    {
     "name": "stdout",
     "output_type": "stream",
     "text": [
      "      1/22/20  1/23/20  1/24/20  1/25/20  1/26/20  1/27/20  1/28/20  1/29/20  \\\n",
      "0           0        0        0        0        0        0        0        0   \n",
      "1           0        0        0        0        0        0        0        0   \n",
      "2           0        0        0        0        0        0        0        0   \n",
      "3           0        0        0        0        0        0        0        0   \n",
      "4           0        0        0        0        0        0        0        0   \n",
      "...       ...      ...      ...      ...      ...      ...      ...      ...   \n",
      "3337        0        0        0        0        0        0        0        0   \n",
      "3338        0        0        0        0        0        0        0        0   \n",
      "3339        0        0        0        0        0        0        0        0   \n",
      "3340        0        0        0        0        0        0        0        0   \n",
      "3341        0        0        0        0        0        0        0        0   \n",
      "\n",
      "      1/30/20  1/31/20  ...  4/24/21  4/25/21  4/26/21  4/27/21  4/28/21  \\\n",
      "0           0        0  ...     6876     6879     6882     6889     6890   \n",
      "1           0        0  ...    20838    20847    20863    20875    20897   \n",
      "2           0        0  ...     2296     2296     2296     2297     2298   \n",
      "3           0        0  ...     2582     2584     2584     2588     2591   \n",
      "4           0        0  ...     6570     6571     6574     6581     6595   \n",
      "...       ...      ...  ...      ...      ...      ...      ...      ...   \n",
      "3337        0        0  ...     3719     3719     3724     3725     3729   \n",
      "3338        0        0  ...     2158     2158     2165     2173     2180   \n",
      "3339        0        0  ...        0        0        0        0        0   \n",
      "3340        0        0  ...      898      898      898      901      903   \n",
      "3341        0        0  ...      648      648      648      648      649   \n",
      "\n",
      "      4/29/21  4/30/21  5/1/21  5/2/21  5/3/21  \n",
      "0        6897     6904    6907    6909    6910  \n",
      "1       20921    20941   20966   20983   20993  \n",
      "2        2299     2300    2302    2302    2302  \n",
      "3        2593     2594    2596    2596    2597  \n",
      "4        6607     6613    6616    6619    6621  \n",
      "...       ...      ...     ...     ...     ...  \n",
      "3337     3730     3732    3732    3732    3739  \n",
      "3338     2181     2183    2183    2183    2195  \n",
      "3339        0        0       0       0       0  \n",
      "3340      903      903     903     903     906  \n",
      "3341      650      650     650     650     651  \n",
      "\n",
      "[3342 rows x 468 columns]\n"
     ]
    }
   ],
   "source": [
    "print(df_column_date)"
   ]
  },
  {
   "cell_type": "code",
   "execution_count": 91,
   "id": "10cc0910",
   "metadata": {},
   "outputs": [],
   "source": [
    "final_dataframe = pd.DataFrame(columns=['uid', 'code3', 'fips', 'county', 'state', 'date', 'confirmed'])\n",
    "# for i in range(5):\n",
    "#     df = df.append({'A': i, 'B': i}, ignore_index=True)"
   ]
  },
  {
   "cell_type": "code",
   "execution_count": 92,
   "id": "701ce95c",
   "metadata": {},
   "outputs": [
    {
     "data": {
      "text/plain": [
       "3342"
      ]
     },
     "execution_count": 92,
     "metadata": {},
     "output_type": "execute_result"
    }
   ],
   "source": [
    "df_column_info.shape[0]"
   ]
  },
  {
   "cell_type": "code",
   "execution_count": 93,
   "id": "81022b05",
   "metadata": {},
   "outputs": [
    {
     "data": {
      "text/plain": [
       "468"
      ]
     },
     "execution_count": 93,
     "metadata": {},
     "output_type": "execute_result"
    }
   ],
   "source": [
    "df_column_date.shape[1]"
   ]
  },
  {
   "cell_type": "code",
   "execution_count": 94,
   "id": "f1396e53",
   "metadata": {},
   "outputs": [
    {
     "name": "stdout",
     "output_type": "stream",
     "text": [
      "1564056\n"
     ]
    }
   ],
   "source": [
    "print(df_column_date.shape[1]*df_column_info.shape[0])"
   ]
  },
  {
   "cell_type": "code",
   "execution_count": null,
   "id": "bee8114f",
   "metadata": {},
   "outputs": [],
   "source": [
    "for i in range(df_column_info.shape[0]):\n",
    "#     print(df_column_info.iloc[i,:][0])\n",
    "    for j in range(df_column_date.shape[1]):\n",
    "        final_dataframe = final_dataframe.append({\n",
    "            'uid':df_column_info.iloc[i,:][0],\n",
    "            'code3':df_column_info.iloc[i,:][1],\n",
    "            'fips':df_column_info.iloc[i,:][2],\n",
    "            'county':df_column_info.iloc[i,:][3],\n",
    "            'state':df_column_info.iloc[i,:][4],\n",
    "            'date':df_column_date.columns[j],\n",
    "            'confirmed':df_column_date.iloc[i,j]\n",
    "        },ignore_index=True)"
   ]
  },
  {
   "cell_type": "code",
   "execution_count": 85,
   "id": "2c98d6c1",
   "metadata": {},
   "outputs": [
    {
     "name": "stdout",
     "output_type": "stream",
     "text": [
      "Empty DataFrame\n",
      "Columns: [uid, code3, fips, county, state, date, confirmed]\n",
      "Index: []\n"
     ]
    }
   ],
   "source": [
    "print(final_dataframe.shape)"
   ]
  },
  {
   "cell_type": "code",
   "execution_count": null,
   "id": "16187f43",
   "metadata": {},
   "outputs": [],
   "source": [
    "for i in range(3000):\n",
    "    for j in range(400):\n",
    "        print(i,j)"
   ]
  },
  {
   "cell_type": "code",
   "execution_count": 13,
   "id": "190a3672",
   "metadata": {},
   "outputs": [],
   "source": [
    "new_confirmed_dataframe = pd.melt(confirmed_dataframe, \n",
    "     id_vars =['UID', 'code3', 'FIPS', 'Admin2','Province_State'], \n",
    "     value_vars =['1/31/20', '2/29/20', '3/31/20', '4/30/20', '5/31/20', '6/30/20', \n",
    "                  '7/31/20', '8/31/20', '9/30/20', '10/31/20', '11/30/20', '12/31/20',\n",
    "                  '1/31/21', '2/28/21', '3/31/21', '4/30/21', '5/7/21'])"
   ]
  },
  {
   "cell_type": "code",
   "execution_count": 14,
   "id": "488419d1",
   "metadata": {},
   "outputs": [
    {
     "name": "stdout",
     "output_type": "stream",
     "text": [
      "            UID  code3     FIPS      Admin2 Province_State variable  value\n",
      "0      84001001    840   1001.0     Autauga        Alabama  1/31/20      0\n",
      "1      84001003    840   1003.0     Baldwin        Alabama  1/31/20      0\n",
      "2      84001005    840   1005.0     Barbour        Alabama  1/31/20      0\n",
      "3      84001007    840   1007.0        Bibb        Alabama  1/31/20      0\n",
      "4      84001009    840   1009.0      Blount        Alabama  1/31/20      0\n",
      "...         ...    ...      ...         ...            ...      ...    ...\n",
      "56809  84056039    840  56039.0       Teton        Wyoming   5/7/21   3751\n",
      "56810  84056041    840  56041.0       Uinta        Wyoming   5/7/21   2217\n",
      "56811  84090056    840  90056.0  Unassigned        Wyoming   5/7/21      0\n",
      "56812  84056043    840  56043.0    Washakie        Wyoming   5/7/21    911\n",
      "56813  84056045    840  56045.0      Weston        Wyoming   5/7/21    651\n",
      "\n",
      "[56814 rows x 7 columns]\n"
     ]
    }
   ],
   "source": [
    "print(new_confirmed_dataframe)"
   ]
  },
  {
   "cell_type": "code",
   "execution_count": 15,
   "id": "3310ade3",
   "metadata": {},
   "outputs": [],
   "source": [
    "new_deaths_dataframe = pd.melt(deaths_dataframe, \n",
    "     id_vars =['UID', 'Population'], \n",
    "     value_vars =['1/31/20', '2/29/20', '3/31/20', '4/30/20', '5/31/20', '6/30/20', \n",
    "                  '7/31/20', '8/31/20', '9/30/20', '10/31/20', '11/30/20', '12/31/20',\n",
    "                  '1/31/21', '2/28/21', '3/31/21', '4/30/21', '5/7/21'])"
   ]
  },
  {
   "cell_type": "code",
   "execution_count": 16,
   "id": "ec864cb1",
   "metadata": {},
   "outputs": [
    {
     "name": "stdout",
     "output_type": "stream",
     "text": [
      "            UID  Population variable  value\n",
      "0      84001001       55869  1/31/20      0\n",
      "1      84001003      223234  1/31/20      0\n",
      "2      84001005       24686  1/31/20      0\n",
      "3      84001007       22394  1/31/20      0\n",
      "4      84001009       57826  1/31/20      0\n",
      "...         ...         ...      ...    ...\n",
      "56809  84056039       23464   5/7/21      9\n",
      "56810  84056041       20226   5/7/21     13\n",
      "56811  84090056           0   5/7/21      0\n",
      "56812  84056043        7805   5/7/21     26\n",
      "56813  84056045        6927   5/7/21      5\n",
      "\n",
      "[56814 rows x 4 columns]\n"
     ]
    }
   ],
   "source": [
    "print(new_deaths_dataframe)"
   ]
  },
  {
   "cell_type": "code",
   "execution_count": 17,
   "id": "9a96d76d",
   "metadata": {},
   "outputs": [],
   "source": [
    "new_confirmed_dataframe.columns = ['uid', 'code3', 'fips', 'county', 'state', 'date', 'confirmed']"
   ]
  },
  {
   "cell_type": "code",
   "execution_count": 18,
   "id": "ddb2e309",
   "metadata": {},
   "outputs": [],
   "source": [
    "new_deaths_dataframe.columns = ['uid', 'population','date', 'deaths']"
   ]
  },
  {
   "cell_type": "code",
   "execution_count": 19,
   "id": "3b04d4c4",
   "metadata": {},
   "outputs": [
    {
     "name": "stdout",
     "output_type": "stream",
     "text": [
      "            uid  population     date  deaths\n",
      "0      84001001       55869  1/31/20       0\n",
      "1      84001003      223234  1/31/20       0\n",
      "2      84001005       24686  1/31/20       0\n",
      "3      84001007       22394  1/31/20       0\n",
      "4      84001009       57826  1/31/20       0\n",
      "...         ...         ...      ...     ...\n",
      "56809  84056039       23464   5/7/21       9\n",
      "56810  84056041       20226   5/7/21      13\n",
      "56811  84090056           0   5/7/21       0\n",
      "56812  84056043        7805   5/7/21      26\n",
      "56813  84056045        6927   5/7/21       5\n",
      "\n",
      "[56814 rows x 4 columns]\n"
     ]
    }
   ],
   "source": [
    "print(new_deaths_dataframe)"
   ]
  },
  {
   "cell_type": "code",
   "execution_count": 20,
   "id": "b7f33fc9",
   "metadata": {},
   "outputs": [],
   "source": [
    "new_deaths_only_val = new_deaths_dataframe[['population', 'deaths']]"
   ]
  },
  {
   "cell_type": "code",
   "execution_count": 21,
   "id": "055a19c5",
   "metadata": {},
   "outputs": [
    {
     "name": "stdout",
     "output_type": "stream",
     "text": [
      "       population  deaths\n",
      "0           55869       0\n",
      "1          223234       0\n",
      "2           24686       0\n",
      "3           22394       0\n",
      "4           57826       0\n",
      "...           ...     ...\n",
      "56809       23464       9\n",
      "56810       20226      13\n",
      "56811           0       0\n",
      "56812        7805      26\n",
      "56813        6927       5\n",
      "\n",
      "[56814 rows x 2 columns]\n"
     ]
    }
   ],
   "source": [
    "print(new_deaths_only_val)"
   ]
  },
  {
   "cell_type": "code",
   "execution_count": 22,
   "id": "185867ba",
   "metadata": {},
   "outputs": [],
   "source": [
    "final_dataframe = new_confirmed_dataframe.join(new_deaths_only_val)"
   ]
  },
  {
   "cell_type": "code",
   "execution_count": 23,
   "id": "757d489a",
   "metadata": {},
   "outputs": [
    {
     "name": "stdout",
     "output_type": "stream",
     "text": [
      "            uid  code3     fips      county    state     date  confirmed  \\\n",
      "0      84001001    840   1001.0     Autauga  Alabama  1/31/20          0   \n",
      "1      84001003    840   1003.0     Baldwin  Alabama  1/31/20          0   \n",
      "2      84001005    840   1005.0     Barbour  Alabama  1/31/20          0   \n",
      "3      84001007    840   1007.0        Bibb  Alabama  1/31/20          0   \n",
      "4      84001009    840   1009.0      Blount  Alabama  1/31/20          0   \n",
      "...         ...    ...      ...         ...      ...      ...        ...   \n",
      "56809  84056039    840  56039.0       Teton  Wyoming   5/7/21       3751   \n",
      "56810  84056041    840  56041.0       Uinta  Wyoming   5/7/21       2217   \n",
      "56811  84090056    840  90056.0  Unassigned  Wyoming   5/7/21          0   \n",
      "56812  84056043    840  56043.0    Washakie  Wyoming   5/7/21        911   \n",
      "56813  84056045    840  56045.0      Weston  Wyoming   5/7/21        651   \n",
      "\n",
      "       population  deaths  \n",
      "0           55869       0  \n",
      "1          223234       0  \n",
      "2           24686       0  \n",
      "3           22394       0  \n",
      "4           57826       0  \n",
      "...           ...     ...  \n",
      "56809       23464       9  \n",
      "56810       20226      13  \n",
      "56811           0       0  \n",
      "56812        7805      26  \n",
      "56813        6927       5  \n",
      "\n",
      "[56814 rows x 9 columns]\n"
     ]
    }
   ],
   "source": [
    "print(final_dataframe)"
   ]
  },
  {
   "cell_type": "code",
   "execution_count": 29,
   "id": "eed9a804",
   "metadata": {},
   "outputs": [],
   "source": [
    "# import the module\n",
    "from sqlalchemy import create_engine\n",
    "\n",
    "# create sqlalchemy engine\n",
    "engine = create_engine(\"mysql+pymysql://{user}:{pw}@db/{db}\"\n",
    "                       .format(user=\"admin\",\n",
    "                               pw=\"admin123\",\n",
    "                               db=\"covid\"))"
   ]
  },
  {
   "cell_type": "code",
   "execution_count": 30,
   "id": "fdd91b1d",
   "metadata": {},
   "outputs": [],
   "source": [
    "# connection = pymysql.connect(host='db',\n",
    "#                              user='admin',\n",
    "#                              port=3306,\n",
    "#                              password='admin123',\n",
    "#                              database='covid',\n",
    "#                              cursorclass=pymysql.cursors.DictCursor)\n"
   ]
  },
  {
   "cell_type": "code",
   "execution_count": 31,
   "id": "fd309abb",
   "metadata": {},
   "outputs": [
    {
     "name": "stdout",
     "output_type": "stream",
     "text": [
      "Engine(mysql+pymysql://admin:***@db/covid)\n"
     ]
    }
   ],
   "source": [
    "print(engine)"
   ]
  },
  {
   "cell_type": "code",
   "execution_count": 32,
   "id": "91ff853b",
   "metadata": {},
   "outputs": [],
   "source": [
    "# Insert whole DataFrame into MySQL\n",
    "final_dataframe.to_sql('covid_dataset', con = engine, if_exists = 'append', chunksize = 1000)"
   ]
  },
  {
   "cell_type": "code",
   "execution_count": null,
   "id": "68466f60",
   "metadata": {},
   "outputs": [],
   "source": []
  }
 ],
 "metadata": {
  "kernelspec": {
   "display_name": "Python 3",
   "language": "python",
   "name": "python3"
  },
  "language_info": {
   "codemirror_mode": {
    "name": "ipython",
    "version": 3
   },
   "file_extension": ".py",
   "mimetype": "text/x-python",
   "name": "python",
   "nbconvert_exporter": "python",
   "pygments_lexer": "ipython3",
   "version": "3.9.0"
  }
 },
 "nbformat": 4,
 "nbformat_minor": 5
}
